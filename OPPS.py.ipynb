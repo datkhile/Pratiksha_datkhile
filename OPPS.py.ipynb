{
 "cells": [
  {
   "cell_type": "code",
   "execution_count": 13,
   "id": "315a5481",
   "metadata": {},
   "outputs": [],
   "source": [
    "#object mobile\n",
    "class mobile():#object class name is mobile \n",
    "    name=\"iphone\"#attribute\n",
    "    color=\"grey\"\n",
    "    price=10000\n",
    "    \n",
    "    def calling(self):\n",
    "        name=\"iphone\"\n",
    "        color=\"grey\"   \n",
    "        return(f\"mobile is for calling,name of the id{name}and color is{color}\")\n",
    "obj=mobile()#object instatiation\n",
    "obj1=mobile()\n",
    "obj2=mobile()"
   ]
  },
  {
   "cell_type": "code",
   "execution_count": 17,
   "id": "b49b306d",
   "metadata": {},
   "outputs": [
    {
     "data": {
      "text/plain": [
       "'mobile is for calling,name of the idiphoneand color isgrey'"
      ]
     },
     "execution_count": 17,
     "metadata": {},
     "output_type": "execute_result"
    }
   ],
   "source": [
    "#object mobile\n",
    "class mobile():#object class name is mobile \n",
    "    name=\"iphone\"#attribute\n",
    "    color=\"grey\"\n",
    "    price=10000\n",
    "    \n",
    "    def calling(mobile):\n",
    "        name=\"iphone\"\n",
    "        color=\"grey\"   \n",
    "        return(f\"mobile is for calling,name of the id{name}and color is{color}\")\n",
    "obj=mobile()\n",
    "obj1=mobile()\n",
    "obj2=mobile()\n",
    "obj1.calling()"
   ]
  },
  {
   "cell_type": "code",
   "execution_count": 19,
   "id": "64f1152e",
   "metadata": {},
   "outputs": [
    {
     "data": {
      "text/plain": [
       "'mobile is for calling,name of the idiphoneand color isgrey'"
      ]
     },
     "execution_count": 19,
     "metadata": {},
     "output_type": "execute_result"
    }
   ],
   "source": [
    "obj2.calling()#method call using obj"
   ]
  },
  {
   "cell_type": "code",
   "execution_count": 2,
   "id": "cc687f70",
   "metadata": {},
   "outputs": [
    {
     "data": {
      "text/plain": [
       "'mobile is for calling,name of the idiphoneand color isgrey'"
      ]
     },
     "execution_count": 2,
     "metadata": {},
     "output_type": "execute_result"
    }
   ],
   "source": [
    "#vareable define\n",
    "#object mobile\n",
    "class mobile():\n",
    "#object class name is mobile \n",
    "    name=\"iphone\"#attribute\n",
    "    color=\"grey\"\n",
    "    price=10000\n",
    "    \n",
    "    def calling(self):\n",
    "        name=\"iphone\"\n",
    "        color=\"grey\" \n",
    "          \n",
    "        return(f\"mobile is for calling,name of the id{name}and color is{color}\")\n",
    "obj=mobile()\n",
    "obj1=mobile()\n",
    "obj2=mobile()\n",
    "obj1.calling()"
   ]
  },
  {
   "cell_type": "code",
   "execution_count": 33,
   "id": "dfc7d9cd",
   "metadata": {},
   "outputs": [
    {
     "data": {
      "text/plain": [
       "'mobile is for calling,name of the id iphone and color is grey'"
      ]
     },
     "execution_count": 33,
     "metadata": {},
     "output_type": "execute_result"
    }
   ],
   "source": [
    "#out side function is global veriable\n",
    "#inside function is local veriable\n",
    "class mobile:#object class name is mobile \n",
    "    \n",
    "    \n",
    "    def calling(self):\n",
    "        name=\"iphone\"\n",
    "        color=\"grey\" \n",
    "        return f\"mobile is for calling,name of the id {name} and color is {color}\"\n",
    "\n",
    "obj=mobile()\n",
    "obj.calling()"
   ]
  },
  {
   "cell_type": "code",
   "execution_count": 2,
   "id": "2a7cb482",
   "metadata": {},
   "outputs": [
    {
     "data": {
      "text/plain": [
       "'pen is used for writing data,name of the id Jell and color is Black'"
      ]
     },
     "execution_count": 2,
     "metadata": {},
     "output_type": "execute_result"
    }
   ],
   "source": [
    "class pen:\n",
    "      \n",
    "    def writing(obj):\n",
    "        name=\"Jell\"\n",
    "        color=\"Black\"\n",
    "        return f'pen is used for writing data,name of the id {name} and color is {color}'\n",
    "obj=pen()\n",
    "obj.writing()"
   ]
  },
  {
   "cell_type": "code",
   "execution_count": 1,
   "id": "c44ceb85",
   "metadata": {},
   "outputs": [
    {
     "data": {
      "text/plain": [
       "'car is used for driving pepople,name of the id ertiga and color is Black'"
      ]
     },
     "execution_count": 1,
     "metadata": {},
     "output_type": "execute_result"
    }
   ],
   "source": [
    "class car:\n",
    "    name=\"ertiga\"\n",
    "    color=\"Black\"\n",
    "    price=\"6500000\"\n",
    "    \n",
    "    def calling(self):\n",
    "        name=\"ertiga\"\n",
    "        color=\"Black\"\n",
    "        return f'car is used for driving pepople,name of the id {name} and color is {color}'\n",
    "obj=car()\n",
    "obj.calling()"
   ]
  },
  {
   "cell_type": "code",
   "execution_count": 39,
   "id": "5187e181",
   "metadata": {},
   "outputs": [
    {
     "data": {
      "text/plain": [
       "'it has very useful and keeps my things safe,name of the id school bag and color is Black'"
      ]
     },
     "execution_count": 39,
     "metadata": {},
     "output_type": "execute_result"
    }
   ],
   "source": [
    "class bag:\n",
    "    name=\"school bag\"\n",
    "    color=\"Black\"\n",
    "    price=\"650\"\n",
    "    \n",
    "    def calling(self):\n",
    "        name=\"school bag\"\n",
    "        color=\"Black\"\n",
    "        return f'it has very useful and keeps my things safe,name of the id {name} and color is {color}'\n",
    "obj=bag()\n",
    "obj.calling()"
   ]
  },
  {
   "cell_type": "code",
   "execution_count": 40,
   "id": "474fa632",
   "metadata": {},
   "outputs": [
    {
     "data": {
      "text/plain": [
       "'Black'"
      ]
     },
     "execution_count": 40,
     "metadata": {},
     "output_type": "execute_result"
    }
   ],
   "source": [
    "obj.color"
   ]
  },
  {
   "cell_type": "code",
   "execution_count": 41,
   "id": "258b8eed",
   "metadata": {},
   "outputs": [
    {
     "data": {
      "text/plain": [
       "'it has very useful and keeps my things safe,name of the id school bag and color is Black'"
      ]
     },
     "execution_count": 41,
     "metadata": {},
     "output_type": "execute_result"
    }
   ],
   "source": [
    "obj.calling()"
   ]
  },
  {
   "cell_type": "code",
   "execution_count": 44,
   "id": "496f9344",
   "metadata": {},
   "outputs": [
    {
     "data": {
      "text/plain": [
       "'it is very healdi,name of the id Apple and color is red'"
      ]
     },
     "execution_count": 44,
     "metadata": {},
     "output_type": "execute_result"
    }
   ],
   "source": [
    "class fruit:\n",
    "    name=\"Apple\"\n",
    "    color=\"Red\"\n",
    "    price=\"60\"\n",
    "    \n",
    "    def calling(obj):\n",
    "        name=\"Apple\"\n",
    "        color=\"red\"\n",
    "        return f'it is very healdi,name of the id {name} and color is {color}'\n",
    "obj=fruit()\n",
    "obj.calling()"
   ]
  },
  {
   "cell_type": "code",
   "execution_count": 48,
   "id": "c712390f",
   "metadata": {},
   "outputs": [
    {
     "name": "stdout",
     "output_type": "stream",
     "text": [
      "Hello\n"
     ]
    }
   ],
   "source": [
    "class Person:\n",
    "    \"this is a person class\"\n",
    "    age=10\n",
    "    \n",
    "    def greet(self):\n",
    "        obj=fruit()\n",
    "        print(\"Hello\")\n",
    "obj=Person()\n",
    "obj.greet()"
   ]
  },
  {
   "cell_type": "code",
   "execution_count": 50,
   "id": "f3cd5a61",
   "metadata": {},
   "outputs": [
    {
     "name": "stdout",
     "output_type": "stream",
     "text": [
      "Evening.....\n"
     ]
    }
   ],
   "source": [
    "class Day:\n",
    "    \"This is time on day\"\n",
    "    time=\"24_hours\"\n",
    "    \n",
    "    def data(obj):\n",
    "        time=\"24_hours\"\n",
    "        print(\"Evening.....\")\n",
    "obj=Day()\n",
    "obj.data()"
   ]
  },
  {
   "cell_type": "code",
   "execution_count": 7,
   "id": "2f3b820f",
   "metadata": {},
   "outputs": [
    {
     "data": {
      "text/plain": [
       "'area of circle'"
      ]
     },
     "execution_count": 7,
     "metadata": {},
     "output_type": "execute_result"
    }
   ],
   "source": [
    "class Area:\n",
    "    formula=\"3.14*r*r\"\n",
    "    \n",
    "    def value(self):\n",
    "        #formula=\"3.14*r*r\"\n",
    "        return(\"area of circle\")\n",
    "obj=Area()\n",
    "obj.value()"
   ]
  },
  {
   "cell_type": "code",
   "execution_count": 9,
   "id": "a30e6f76",
   "metadata": {},
   "outputs": [
    {
     "name": "stdout",
     "output_type": "stream",
     "text": [
      "('Jiva', 25)\n",
      "('Shiva', 20)\n",
      "('Saee', 17)\n",
      "Hello.........\n",
      "Hello.........\n",
      "Hello.........\n",
      "('akshu', 21)\n",
      "('pooja', 22)\n",
      "('sham', 23)\n"
     ]
    }
   ],
   "source": [
    "#multiple divies contend in one class\n",
    "class myfirstclass():\n",
    "    def createname(self,name,age):\n",
    "        self.name=name\n",
    "        self.age=age\n",
    "    def display(self):\n",
    "        return self.name,self.age\n",
    "    def say(self,name,age):\n",
    "        self.name=name\n",
    "        self.age=age\n",
    "        print (\"Hello.........\")\n",
    "obj=myfirstclass()\n",
    "obj1=myfirstclass()\n",
    "obj2=myfirstclass()\n",
    "obj.createname(\"Jiva\",25)\n",
    "obj1.createname(\"Shiva\",20)\n",
    "obj2.createname(\"Saee\",17)\n",
    "print(obj.display())\n",
    "print(obj1.display())\n",
    "print(obj2.display())\n",
    "obj.say(\"akshu\",21)\n",
    "obj1.say(\"pooja\",22)\n",
    "obj2.say(\"sham\",23)\n",
    "print(obj.display())\n",
    "print(obj1.display())\n",
    "print(obj2.display())"
   ]
  },
  {
   "cell_type": "code",
   "execution_count": 2,
   "id": "3c31b4df",
   "metadata": {},
   "outputs": [
    {
     "data": {
      "text/plain": [
       "'name is Rahul and my age is 10'"
      ]
     },
     "execution_count": 2,
     "metadata": {},
     "output_type": "execute_result"
    }
   ],
   "source": [
    "class student():\n",
    "    name=\"saee\"\n",
    "    age=18\n",
    "    def show(self):\n",
    "        name=\"Rahul\"\n",
    "        age=10\n",
    "        return f'name is {name} and my age is {age}'\n",
    "        #return f'name is {self.name} and my age is (self.age)'\n",
    "obj=student()\n",
    "obj.show()\n",
    "#student().name"
   ]
  },
  {
   "cell_type": "code",
   "execution_count": 6,
   "id": "17b38704",
   "metadata": {},
   "outputs": [
    {
     "name": "stdout",
     "output_type": "stream",
     "text": [
      "24 24\n",
      "24 28\n",
      "24 32\n",
      "28 36\n",
      "32 40\n"
     ]
    }
   ],
   "source": [
    "#static local\n",
    "class A:\n",
    "    x=20 # static\n",
    "    y=20\n",
    "    def show(self):\n",
    "        self.x = self.x + 4\n",
    "        A.y = A.y + 4\n",
    "        print(self.x,self.y)\n",
    "obj=A()\n",
    "obj.show()\n",
    "\n",
    "A().show()\n",
    "A().show()\n",
    "obj.show()\n",
    "obj.show()\n",
    "\n",
    "#Static Attributes\n",
    "\n",
    "#Is deefined for the individual object and is declared outside any method of the class.\n",
    "#If we want to access this class attribute we will use the class reference instead of \n",
    "#the object reference.If the value of the static attribute is change will be reflected \n",
    "#for all the object of the class."
   ]
  },
  {
   "cell_type": "code",
   "execution_count": 13,
   "id": "7de1c756",
   "metadata": {},
   "outputs": [
    {
     "data": {
      "text/plain": [
       "'my name is Pratu,Pratu age is 20 and course is it'"
      ]
     },
     "execution_count": 13,
     "metadata": {},
     "output_type": "execute_result"
    }
   ],
   "source": [
    "class student:\n",
    "    #institude=it\n",
    "    institude=\"itvedant\"\n",
    "    def display(self):\n",
    "        name=\"Pratu\"\n",
    "        age=20\n",
    "        course=\"it\"\n",
    "        return f\"my name is {name},Pratu age is {age} and course is {course}\"\n",
    "\n",
    "obj=student()\n",
    "obj.display()\n",
    "\n",
    "student().display()\n",
    "student().display()    "
   ]
  },
  {
   "cell_type": "code",
   "execution_count": 3,
   "id": "69a9d419",
   "metadata": {},
   "outputs": [
    {
     "name": "stdout",
     "output_type": "stream",
     "text": [
      "Akshu\n",
      "22\n",
      "101\n",
      "Java\n",
      "Pooja\n",
      "21\n",
      "101\n",
      "Testing\n",
      "Pratu\n",
      "20\n",
      "101\n",
      "DS\n"
     ]
    }
   ],
   "source": [
    "class student:\n",
    "    gender ='Female' #class or static variable\n",
    "    def __init__(self,name,age,rollno,course):\n",
    "        self.name=name #instance variable\n",
    "        self.age=age\n",
    "        self.rollno=rollno\n",
    "        self.course=course\n",
    "    def show(self):\n",
    "        print(self.name)\n",
    "\n",
    "ob=student(\"Akshu\",22,101,\"Java\")\n",
    "ob1=student(\"Pooja\",21,101,\"Testing\")\n",
    "ob2=student(\"Pratu\",20,101,\"DS\")\n",
    "print(ob.name)\n",
    "print(ob.age)\n",
    "print(ob.rollno)\n",
    "print(ob.course)\n",
    "print(ob1.name)\n",
    "print(ob1.age)\n",
    "print(ob1.rollno)\n",
    "print(ob1.course)\n",
    "print(ob2.name)\n",
    "print(ob2.age)\n",
    "print(ob2.rollno)\n",
    "print(ob2.course)\n",
    "  "
   ]
  },
  {
   "cell_type": "code",
   "execution_count": 5,
   "id": "9aec67a8",
   "metadata": {},
   "outputs": [
    {
     "data": {
      "text/plain": [
       "'Female'"
      ]
     },
     "execution_count": 5,
     "metadata": {},
     "output_type": "execute_result"
    }
   ],
   "source": [
    "ob.gender"
   ]
  },
  {
   "cell_type": "code",
   "execution_count": 7,
   "id": "8942847f",
   "metadata": {},
   "outputs": [
    {
     "name": "stdout",
     "output_type": "stream",
     "text": [
      "Enter name of vehicle :School Volvo\n",
      "Enter speed of vehicle :180\n",
      "Enter mileage of vehicle :12\n",
      "Enter name of vehicle :Audi Q5\n",
      "Enter speed of vehicle :240\n",
      "Enter mileage of vehicle :18\n",
      "vehicle colour is : White\n",
      "vehicle name is : School Volvo\n",
      "vehicle speed is : 180\n",
      "vehicle mileage is : 12\n",
      "vehicle colour is : White\n",
      "vehicle name is : Audi Q5\n",
      "vehicle speed is : 240\n",
      "vehicle mileage is : 18\n"
     ]
    }
   ],
   "source": [
    "#Q WAP to Define a class attribute”color” with a default value white. I.e., Every Vehicle should be white.\n",
    "#  Expected Output:\n",
    "#  Color: White, Vehicle name: School Volvo, Speed: 180, Mileage: 12\n",
    "#  Color: White, Vehicle name: Audi Q5, Speed: 240, Mileage: 18\n",
    "class vehicle:\n",
    "    colour=\"White\"\n",
    "    def __init__(self):\n",
    "        self.name=input(\"Enter name of vehicle :\")\n",
    "        self.speed=input(\"Enter speed of vehicle :\")\n",
    "        self.mileage=input(\"Enter mileage of vehicle :\")\n",
    "    def display(self):\n",
    "        print(\"vehicle colour is :\",self.colour)\n",
    "        print(\"vehicle name is :\",self.name)\n",
    "        print(\"vehicle speed is :\",self.speed)\n",
    "        print(\"vehicle mileage is :\",self.mileage)\n",
    "c1=vehicle()\n",
    "c2=vehicle()\n",
    "c1.display()\n",
    "c2.display()        "
   ]
  },
  {
   "cell_type": "code",
   "execution_count": 5,
   "id": "ad8f84a1",
   "metadata": {},
   "outputs": [
    {
     "name": "stdout",
     "output_type": "stream",
     "text": [
      "School Volvo\n",
      "180\n",
      "12\n",
      "White\n",
      "Audi Q5\n",
      "240\n",
      "18\n",
      "White\n"
     ]
    }
   ],
   "source": [
    "class vehicle:\n",
    "    colour=\"White\" #class or static variable\n",
    "    def __init__(self,name,speed,mileage):\n",
    "        self.name=name #instance variable\n",
    "        self.speed=speed\n",
    "        self.mileage=mileage\n",
    "    def show(self):\n",
    "        print(self.name)\n",
    "\n",
    "ob=vehicle(\"School Volvo\",180,12)\n",
    "ob1=vehicle(\"Audi Q5\",240,18)\n",
    "print(ob.name)\n",
    "print(ob.speed)\n",
    "print(ob.mileage)\n",
    "print(ob.colour)\n",
    "print(ob1.name)\n",
    "print(ob1.speed)\n",
    "print(ob1.mileage)\n",
    "print(ob1.colour)"
   ]
  },
  {
   "cell_type": "code",
   "execution_count": 1,
   "id": "63cddf2a",
   "metadata": {},
   "outputs": [
    {
     "name": "stdout",
     "output_type": "stream",
     "text": [
      "Fido\n",
      "Woof!\n"
     ]
    }
   ],
   "source": [
    "#Single Inheritance Example:\n",
    "class Animal:\n",
    "    def __init__(self, name):\n",
    "        self.name = name\n",
    "        \n",
    "    def speak(self):\n",
    "        print(\"The animal is speaking.\")\n",
    "        \n",
    "class Dog(Animal):\n",
    "    def __init__(self, name):\n",
    "        super().__init__(name)\n",
    "        \n",
    "    def speak(self):\n",
    "        print(\"Woof!\")\n",
    "\n",
    "my_dog = Dog(\"Fido\")\n",
    "print(my_dog.name)\n",
    "my_dog.speak()  # Output: \"Woof!\""
   ]
  },
  {
   "cell_type": "code",
   "execution_count": 1,
   "id": "dde92a5f",
   "metadata": {},
   "outputs": [
    {
     "name": "stdout",
     "output_type": "stream",
     "text": [
      "Method from class A\n"
     ]
    }
   ],
   "source": [
    "#Multiple Inheritance Example:\n",
    "class A:\n",
    "    def method(self):\n",
    "        print(\"Method from class A\")\n",
    "        \n",
    "class B:\n",
    "    def method(self):\n",
    "        print(\"Method from class B\")\n",
    "        \n",
    "class C(A, B):\n",
    "    pass\n",
    "\n",
    "my_object = C()\n",
    "my_object.method()  # Output: \"Method from class A\""
   ]
  },
  {
   "cell_type": "code",
   "execution_count": 8,
   "id": "6a51090a",
   "metadata": {},
   "outputs": [
    {
     "name": "stdout",
     "output_type": "stream",
     "text": [
      "it is Vehicle\n",
      "milage of vehicle is 45\n",
      "cost of vehicle is 8000\n"
     ]
    }
   ],
   "source": [
    "#Single Inheritance Example\n",
    "\n",
    "class Vehicle:\n",
    "    def __init__(self,milage,cost):\n",
    "        self.milage=milage\n",
    "        self.cost=cost\n",
    "        \n",
    "    def show_vehicle_details(self):\n",
    "        print(\"it is Vehicle\")\n",
    "        print(\"milage of vehicle is\",self.milage)\n",
    "        print(\"cost of vehicle is\",self.cost)\n",
    "\n",
    "v1=Vehicle(45,8000)\n",
    "v1.show_vehicle_details()"
   ]
  },
  {
   "cell_type": "code",
   "execution_count": 10,
   "id": "27aa0243",
   "metadata": {},
   "outputs": [
    {
     "name": "stdout",
     "output_type": "stream",
     "text": [
      "I like black car\n"
     ]
    }
   ],
   "source": [
    "class Car(Vehicle):\n",
    "    def show_car_details(self):\n",
    "        print(\"I like black car\")\n",
    "        \n",
    "C1=Car(30,5000)\n",
    "C1.show_car_details()"
   ]
  },
  {
   "cell_type": "code",
   "execution_count": 18,
   "id": "858b7235",
   "metadata": {},
   "outputs": [
    {
     "name": "stdout",
     "output_type": "stream",
     "text": [
      "string one of parent1\n",
      "string one of parent2\n",
      "string three of child\n"
     ]
    }
   ],
   "source": [
    "#Multiple Inheritance Example:\n",
    "class parent1():\n",
    "    def assign_str1(self,str1):\n",
    "        self.str1=str1        \n",
    "    def show_str1(self):\n",
    "        return self.str1\n",
    "    \n",
    "class parent2():\n",
    "    def assign_str2(self,str2):\n",
    "        self.str2=str2\n",
    "    def show_str2(self):\n",
    "        return self.str2\n",
    "    \n",
    "class child(parent1,parent2):\n",
    "    def assign_str3(self,str3):\n",
    "        self.str3=str3\n",
    "    def show_str3(self):\n",
    "        return self.str3\n",
    "    \n",
    "c1=child()\n",
    "c1.assign_str1(\"string one of parent1\")\n",
    "c1.assign_str2(\"string one of parent2\")\n",
    "c1.assign_str3(\"string three of child\")\n",
    "print(c1.show_str1())\n",
    "print(c1.show_str2())\n",
    "print(c1.show_str3())"
   ]
  },
  {
   "cell_type": "code",
   "execution_count": 9,
   "id": "dfe5d6df",
   "metadata": {},
   "outputs": [
    {
     "name": "stdout",
     "output_type": "stream",
     "text": [
      "First number:- 100\n",
      "Second number:- 200\n",
      "Addition of two number:-300\n"
     ]
    }
   ],
   "source": [
    "# parameterized constroucter\n",
    "class Addition():\n",
    "    f=0\n",
    "    s=0\n",
    "    a=0\n",
    "    def __init__(self,f1,s1):\n",
    "        self.f=f1\n",
    "        self.s=s1\n",
    "    def display(self):\n",
    "        print(\"First number:- \"+str(self.f))\n",
    "        print(\"Second number:- \"+str(self.s))\n",
    "        print(\"Addition of two number:-\"+str(self.a))\n",
    "    def calculate(self):\n",
    "        self.a=self.f+self.s\n",
    "#creating obj of class\n",
    "#this will invoke parameterize constructor\n",
    "obj=Addition(100,200)\n",
    "\n",
    "#perform addition\n",
    "obj.calculate()\n",
    "#display result\n",
    "obj.display()"
   ]
  },
  {
   "cell_type": "code",
   "execution_count": 5,
   "id": "54cdba9c",
   "metadata": {},
   "outputs": [
    {
     "name": "stdout",
     "output_type": "stream",
     "text": [
      "101\n"
     ]
    }
   ],
   "source": [
    "#default constructoer\n",
    "class demodefault:\n",
    "    num=101\n",
    "    def read_number(self):\n",
    "        print(self.num)\n",
    "obj=demodefault()\n",
    "obj.read_number()"
   ]
  },
  {
   "cell_type": "code",
   "execution_count": 7,
   "id": "da3d0e7b",
   "metadata": {},
   "outputs": [
    {
     "name": "stdout",
     "output_type": "stream",
     "text": [
      "999\n"
     ]
    }
   ],
   "source": [
    "#default constructoer\n",
    "class demodefaultclass:\n",
    "    num=101\n",
    "    def __init__(self):\n",
    "        self.num=999\n",
    "        \n",
    "    def read_number(self):\n",
    "        print(self.num)\n",
    "obj=demodefaultclass()\n",
    "obj.read_number()"
   ]
  },
  {
   "cell_type": "code",
   "execution_count": 10,
   "id": "49cbd26d",
   "metadata": {},
   "outputs": [
    {
     "name": "stdout",
     "output_type": "stream",
     "text": [
      "Destructer call,Emplolyee Deleted\n"
     ]
    }
   ],
   "source": [
    "class Employee():\n",
    "    #initialization\n",
    "    def __init(self):\n",
    "        print(\"Employee created\")\n",
    "    def __del__(self):\n",
    "        print(\"Destructer call,Emplolyee Deleted\")\n",
    "obj=Employee()\n",
    "del obj"
   ]
  },
  {
   "cell_type": "code",
   "execution_count": 13,
   "id": "d74fbd3e",
   "metadata": {},
   "outputs": [
    {
     "name": "stdout",
     "output_type": "stream",
     "text": [
      "print parent class\n",
      "print child class\n"
     ]
    }
   ],
   "source": [
    "#single inharitance\n",
    "#when a child class inharit from only one parent class\n",
    "class parent:#base class\n",
    "    def fun1(self):\n",
    "        print(\"print parent class\")\n",
    "class child(parent):#derive class\n",
    "    def fun2(self):\n",
    "        print(\"print child class\")\n",
    "object=child()\n",
    "object.fun1()\n",
    "object.fun2()"
   ]
  },
  {
   "cell_type": "code",
   "execution_count": 2,
   "id": "db2a9a76",
   "metadata": {},
   "outputs": [
    {
     "name": "stdout",
     "output_type": "stream",
     "text": [
      "Father= Ram.S.Datkhile\n",
      "Mother= Mau.N.Borhade\n"
     ]
    }
   ],
   "source": [
    "#Multiple inharitance\n",
    "class Mother:\n",
    "    Mothername:\"\"\n",
    "    def Mother(self):\n",
    "            print(self.Mothername)\n",
    "class Father:\n",
    "    Fathername:\"\"\n",
    "    def Father(self):\n",
    "        print(self.Fathername)\n",
    "class Son(Mother,Father):\n",
    "    def parents(self):\n",
    "        print(\"Father=\",self.Fathername)\n",
    "        print(\"Mother=\",self.Mothername)\n",
    "s1=Son()\n",
    "s1.Fathername=\"Ram.S.Datkhile\"\n",
    "s1.Mothername=\"Mau.N.Borhade\"\n",
    "s1.parents()"
   ]
  },
  {
   "cell_type": "code",
   "execution_count": 23,
   "id": "7757ce0c",
   "metadata": {},
   "outputs": [
    {
     "name": "stdout",
     "output_type": "stream",
     "text": [
      "Enter First number8\n",
      "Enter second number6\n",
      "sum of two number 14\n"
     ]
    }
   ],
   "source": [
    "#Multiple inharitance\n",
    "class First:\n",
    "    def input1(self):\n",
    "        self.a=int(input(\"Enter First number\"))\n",
    "        self.b=int(input(\"Enter second number\"))\n",
    "class Second(First):\n",
    "    def add(self):\n",
    "        self.a=self.a+self.b\n",
    "        \n",
    "class Third(Second):\n",
    "    def result(self):\n",
    "        print(\"sum of two number\",self.a)\n",
    "object=Third()\n",
    "object.input1()\n",
    "object.add()\n",
    "object.result()"
   ]
  },
  {
   "cell_type": "code",
   "execution_count": null,
   "id": "643e6023",
   "metadata": {},
   "outputs": [],
   "source": [
    "class student():\n",
    "    school='ABC'       #<--------------static variable\n",
    "    def __init__(self,name,age):\n",
    "        self.name=name #instance variable\n",
    "        self.Age=age   #name age local va\n",
    "    def show(self):\n",
    "        print(\"Name and age of student is: \",\n",
    "               self.Name, self.Age,student.school)\n",
    "        "
   ]
  },
  {
   "cell_type": "code",
   "execution_count": 2,
   "id": "76c5b1d0",
   "metadata": {},
   "outputs": [
    {
     "name": "stdout",
     "output_type": "stream",
     "text": [
      "Enter type of gold :chain\n",
      "Enter type of silver :Ring\n",
      "Enter brass patarn :glass\n",
      "Enter copper type :kada\n"
     ]
    }
   ],
   "source": [
    "class Project():\n",
    "    jwellary_shop=\"puna_ghadge\"\n",
    "    def material(self):\n",
    "        self.gold=input(\"Enter type of gold :\")\n",
    "        self.silver=input(\"Enter type of silver :\")\n",
    "        self.brass=input(\"Enter brass patarn :\")\n",
    "        self.copper=input(\"Enter copper type :\")\n",
    "    def display(self):\n",
    "        print(\"material j_shop is :\",self.colour)\n",
    "        print(\"material gold is :\",self.gold)\n",
    "        print(\"material silver is :\",self.silver)\n",
    "        print(\"material brass is :\",self.brass)\n",
    "        print(\"material copper is :\",self.copper)\n",
    "\n",
    "j1=Project()\n",
    "#j2=Project()\n",
    "#j3=Project()\n",
    "#j4=Project()\n",
    "#j5=Project()\n",
    "j1.material()\n",
    "#j2.material()\n",
    "#j3.material()\n",
    "#j4.material()\n",
    "#j5.material()"
   ]
  },
  {
   "cell_type": "code",
   "execution_count": 3,
   "id": "45f3758a",
   "metadata": {},
   "outputs": [
    {
     "name": "stdout",
     "output_type": "stream",
     "text": [
      "Sum is 50\n",
      "subtraction is -10\n"
     ]
    }
   ],
   "source": [
    "#Hierarchical Inhertance\n",
    "class First:\n",
    "    def __init__(self):\n",
    "        self.x=20\n",
    "        self.y=30\n",
    "class Second(First):\n",
    "    def findsum(self):\n",
    "        self.z=self.x+self.y\n",
    "        print(\"Sum is\",self.z)\n",
    "class Third(First):\n",
    "    def findsub(self):\n",
    "        self.z=self.x-self.y\n",
    "        print(\"subtraction is\",self.z)\n",
    "obj1=Second()\n",
    "obj1.findsum()\n",
    "\n",
    "obj2=Third()\n",
    "obj2.findsub()"
   ]
  },
  {
   "cell_type": "code",
   "execution_count": 1,
   "id": "360677dc",
   "metadata": {},
   "outputs": [
    {
     "ename": "SyntaxError",
     "evalue": "'return' outside function (area.py, line 4)",
     "output_type": "error",
     "traceback": [
      "Traceback \u001b[1;36m(most recent call last)\u001b[0m:\n",
      "  File \u001b[0;32m\"C:\\Users\\Lenovo-PC\\anaconda3\\lib\\site-packages\\IPython\\core\\interactiveshell.py\"\u001b[0m, line \u001b[0;32m3457\u001b[0m, in \u001b[0;35mrun_code\u001b[0m\n    exec(code_obj, self.user_global_ns, self.user_ns)\n",
      "\u001b[1;36m  File \u001b[1;32m\"C:\\Users\\Lenovo-PC\\AppData\\Local\\Temp\\ipykernel_13104\\2431170771.py\"\u001b[1;36m, line \u001b[1;32m1\u001b[1;36m, in \u001b[1;35m<module>\u001b[1;36m\u001b[0m\n\u001b[1;33m    from area import Area\u001b[0m\n",
      "\u001b[1;36m  File \u001b[1;32m\"C:\\Users\\Lenovo-PC\\Desktop\\DATA\\Python\\area.py\"\u001b[1;36m, line \u001b[1;32m4\u001b[0m\n\u001b[1;33m    return(\"Area of Circle=\",Area)\u001b[0m\n\u001b[1;37m    ^\u001b[0m\n\u001b[1;31mSyntaxError\u001b[0m\u001b[1;31m:\u001b[0m 'return' outside function\n"
     ]
    }
   ],
   "source": [
    "from area import Area"
   ]
  },
  {
   "cell_type": "code",
   "execution_count": 9,
   "id": "4af2443d",
   "metadata": {},
   "outputs": [
    {
     "ename": "SyntaxError",
     "evalue": "'return' outside function (area.py, line 4)",
     "output_type": "error",
     "traceback": [
      "Traceback \u001b[1;36m(most recent call last)\u001b[0m:\n",
      "  File \u001b[0;32m\"C:\\Users\\Lenovo-PC\\anaconda3\\lib\\site-packages\\IPython\\core\\interactiveshell.py\"\u001b[0m, line \u001b[0;32m3457\u001b[0m, in \u001b[0;35mrun_code\u001b[0m\n    exec(code_obj, self.user_global_ns, self.user_ns)\n",
      "\u001b[1;36m  File \u001b[1;32m\"C:\\Users\\Lenovo-PC\\AppData\\Local\\Temp\\ipykernel_13104\\1104763562.py\"\u001b[1;36m, line \u001b[1;32m1\u001b[1;36m, in \u001b[1;35m<module>\u001b[1;36m\u001b[0m\n\u001b[1;33m    from area import Area\u001b[0m\n",
      "\u001b[1;36m  File \u001b[1;32m\"C:\\Users\\Lenovo-PC\\Desktop\\DATA\\Python\\area.py\"\u001b[1;36m, line \u001b[1;32m4\u001b[0m\n\u001b[1;33m    return(\"Area of Circle=\",Area)\u001b[0m\n\u001b[1;37m    ^\u001b[0m\n\u001b[1;31mSyntaxError\u001b[0m\u001b[1;31m:\u001b[0m 'return' outside function\n"
     ]
    }
   ],
   "source": [
    "from area import Area\n",
    "# area of a circle \n",
    "circle_area = Area.circle(5)\n",
    "print(\"Area of circle: \", circle_area)\n",
    "\n",
    "# area of a rectangle \n",
    "rectangle_area = Area.rectangle(10, 5)\n",
    "print(\"Area of rectangle: \", rectangle_area)\n",
    "\n",
    "# area of a square \n",
    "square_area = Area.square(7)\n",
    "print(\"Area of square: \", square_area)\n"
   ]
  },
  {
   "cell_type": "code",
   "execution_count": 3,
   "id": "619603ef",
   "metadata": {},
   "outputs": [],
   "source": [
    "class Area:\n",
    "    pi=3.14\n",
    "    def circle(radius):\n",
    "        return (area.pi*radius*2)\n",
    "    \n",
    "    def rectangel(length,width):\n",
    "        return length*width\n",
    "    \n",
    "    def square(side):\n",
    "        return side**2"
   ]
  },
  {
   "cell_type": "code",
   "execution_count": 5,
   "id": "3c882031",
   "metadata": {},
   "outputs": [
    {
     "name": "stdout",
     "output_type": "stream",
     "text": [
      "Similar to method overloading\n",
      "Single arg 10\n",
      "Two arg 30\n",
      "Three arg 60\n",
      "Four arg 100\n"
     ]
    }
   ],
   "source": [
    "#function with multiple arguments or overloading\n",
    "def sum_number(*arg):\n",
    "    result=0\n",
    "    for num in arg:\n",
    "        result+=num\n",
    "    print(result)\n",
    "if(__name__==\"__main__\"):\n",
    "    print(\"Similar to method overloading\")\n",
    "    \n",
    "    print(\"Single arg\",end=\" \")\n",
    "    sum_number(10)\n",
    "    \n",
    "    print(\"Two arg\",end=\" \")\n",
    "    sum_number(10,20)\n",
    "    \n",
    "    print(\"Three arg\",end=\" \")\n",
    "    sum_number(10,20,30)\n",
    "    \n",
    "    print(\"Four arg\",end=\" \")\n",
    "    sum_number(10,20,30,40)"
   ]
  },
  {
   "cell_type": "code",
   "execution_count": 8,
   "id": "b8781108",
   "metadata": {},
   "outputs": [
    {
     "name": "stdout",
     "output_type": "stream",
     "text": [
      "Redefined function of call A in class B\n",
      "First function class A\n"
     ]
    }
   ],
   "source": [
    "#over riding\n",
    "class A:\n",
    "    def first(self):\n",
    "        print(\"First function class A\")\n",
    "    def second(self):\n",
    "        print(\"Second function class A\")\n",
    "class B():\n",
    "    def first(self):\n",
    "        print(\"Redefined function of call A in class B\")\n",
    "    def display(self):\n",
    "        print(\"display function of child\")\n",
    "child_obj=B()\n",
    "child_obj.first()\n",
    "A().first()"
   ]
  },
  {
   "cell_type": "code",
   "execution_count": 14,
   "id": "05540561",
   "metadata": {},
   "outputs": [
    {
     "name": "stdout",
     "output_type": "stream",
     "text": [
      "Washington DC\n",
      "US $\n",
      "Pune\n",
      "INR.Rs\n"
     ]
    }
   ],
   "source": [
    "#overriding\n",
    "class India:\n",
    "    def getcapital(self):\n",
    "        print(\"Pune\")\n",
    "    def getcurrency(self):\n",
    "        print(\"INR.Rs\")\n",
    "              \n",
    "class US(India):\n",
    "    def getcapital(self):\n",
    "        print(\"Washington DC\")\n",
    "    def getcurrency(self):\n",
    "        print(\"US $\")\n",
    "              \n",
    "i=India()\n",
    "us=US()\n",
    "              \n",
    "us.getcapital()\n",
    "us.getcurrency()  \n",
    "i.getcapital()\n",
    "i.getcurrency()"
   ]
  },
  {
   "cell_type": "code",
   "execution_count": 23,
   "id": "5555f0eb",
   "metadata": {},
   "outputs": [
    {
     "name": "stdout",
     "output_type": "stream",
     "text": [
      "Redefined function of call HR in company\n",
      "Oma is the first Employee\n",
      "sidha is the second Employee\n",
      "Aniket is the third Employee\n",
      "Satvik is the four'th Employee\n",
      "display function of child\n"
     ]
    }
   ],
   "source": [
    "#over overloding\n",
    "class HR():\n",
    "    def EMP1(self):\n",
    "        print(\"Oma is the first Employee\")\n",
    "    def EMP2(self):\n",
    "        print(\"sidha is the second Employee\")\n",
    "    def EMP3(self):\n",
    "        print(\"Aniket is the third Employee\")\n",
    "    def EMP4(self):\n",
    "        print(\"Satvik is the four'th Employee\")\n",
    "class company():\n",
    "    def data(self):\n",
    "        print(\"Redefined function of call HR in company\")\n",
    "    def display(self):\n",
    "        print(\"display function of child\")\n",
    "child_obj=company()\n",
    "child_obj.data()\n",
    "HR().EMP1()\n",
    "HR().EMP2()\n",
    "HR().EMP3()\n",
    "HR().EMP4()\n",
    "#obj.data()\n",
    "obj.display()\n",
    "#boys=girls()\n",
    "#boys.first()"
   ]
  },
  {
   "cell_type": "code",
   "execution_count": 2,
   "id": "5904fe85",
   "metadata": {},
   "outputs": [
    {
     "name": "stdout",
     "output_type": "stream",
     "text": [
      "Hello how are you everyone\n"
     ]
    }
   ],
   "source": [
    "class parent:\n",
    "    def __init__(self,txt):\n",
    "        self.message=txt\n",
    "    def printmsg(self):\n",
    "        print(self.message)\n",
    "        \n",
    "class child(parent):\n",
    "    def __init__(self,txt):\n",
    "        super().__init__(txt)#allow us to avoid using the base class name explicity,working with multiple \n",
    "x=child(\"Hello how are you everyone\")\n",
    "x.printmsg()\n"
   ]
  },
  {
   "cell_type": "code",
   "execution_count": 6,
   "id": "71d561f3",
   "metadata": {},
   "outputs": [
    {
     "name": "stdout",
     "output_type": "stream",
     "text": [
      "Dog has 4 legs\n",
      "dog can't fly\n",
      "dog can't swim\n",
      "dog is warn blood animal\n",
      "dog is an animal\n",
      "\n",
      "Bat can't swim\n",
      "Bat is warn blood animal\n",
      "Bat is an animal\n"
     ]
    }
   ],
   "source": [
    "#MultiLevel Inheritance\n",
    "class Animal:#base class\n",
    "    def __init__(self,Animal):\n",
    "        print(Animal,\"is an animal\")\n",
    "class Mammal(Animal):#dirived class\n",
    "    def __init__(self,mammalname):\n",
    "        print(mammalname,\"is warn blood animal\")\n",
    "        super().__init__(mammalname)\n",
    "class NonwingedMammal(Mammal):#sub class\n",
    "        def __init__(self,NonwingedMammal):\n",
    "            print(NonwingedMammal,\"can't fly\")\n",
    "            super().__init__(NonwingedMammal)\n",
    "class NonMarineMammal(Mammal):\n",
    "        def __init__(self,NonMarineMammal):\n",
    "            print(NonMarineMammal,\"can't swim\")\n",
    "            super().__init__(NonMarineMammal)\n",
    "class dog(NonwingedMammal,NonMarineMammal):\n",
    "    def __init__(self):\n",
    "        print(\"Dog has 4 legs\")\n",
    "        super().__init__('dog')\n",
    "d=dog()\n",
    "print(\"\")\n",
    "bat=NonMarineMammal('Bat')"
   ]
  },
  {
   "cell_type": "code",
   "execution_count": 14,
   "id": "f1e4c430",
   "metadata": {},
   "outputs": [
    {
     "name": "stdout",
     "output_type": "stream",
     "text": [
      "volume30\n"
     ]
    }
   ],
   "source": [
    "class bubble:\n",
    "    def __init__(self,volume):\n",
    "        self.volume=volume\n",
    "    \n",
    "    def __str__(self):\n",
    "        return\"volume\"+str(self.volume)\n",
    "    \n",
    "b1=bubble(30)\n",
    "print(b1)\n",
    "#b2=bubble(20)\n",
    "#print(b1+b2)"
   ]
  },
  {
   "cell_type": "code",
   "execution_count": 13,
   "id": "72571334",
   "metadata": {},
   "outputs": [
    {
     "name": "stdout",
     "output_type": "stream",
     "text": [
      "volume50\n"
     ]
    }
   ],
   "source": [
    "class bubble:\n",
    "    def __init__(self,volume):\n",
    "        self.volume=volume\n",
    "    \n",
    "    def __str__(self):\n",
    "        return\"volume\"+str(self.volume)\n",
    "    \n",
    "    def __add__(self,other):\n",
    "        volume=self.volume+other.volume\n",
    "        return bubble(volume)\n",
    "b1=bubble(30)\n",
    "b2=bubble(20)\n",
    "print(b1+b2)"
   ]
  },
  {
   "cell_type": "code",
   "execution_count": 3,
   "id": "3922629e",
   "metadata": {},
   "outputs": [
    {
     "name": "stdout",
     "output_type": "stream",
     "text": [
      "('Total box size now', 20)\n"
     ]
    }
   ],
   "source": [
    "# __Add__\n",
    "class Box:\n",
    "    def __init__(self,a,b):\n",
    "        self.a=a\n",
    "        self.b=b\n",
    "    def __add__(self,other):\n",
    "        s1=self.a+self.b\n",
    "        s2=other.a+other.b\n",
    "        total=s1+s2\n",
    "        return \"Total box size now\",total\n",
    "box1=Box(2,3)\n",
    "box2=Box(5,10)\n",
    "print(box1+box2)"
   ]
  },
  {
   "cell_type": "code",
   "execution_count": 46,
   "id": "d1f91927",
   "metadata": {},
   "outputs": [
    {
     "name": "stdout",
     "output_type": "stream",
     "text": [
      "Enter value of 1 obj5\n",
      "Enter value of 2 obj4\n",
      " :  obj2 is less than obj1\n",
      "Enter value of 1 obj66\n",
      "Enter value of 2 obj66\n",
      " :  objs are equal \n",
      "Enter value of 1 obj8\n",
      "Enter value of 2 obj90\n",
      " :  obj2 is greater than obj1\n"
     ]
    }
   ],
   "source": [
    "class e1:\n",
    "    def __init__(self,x):\n",
    "        self.x=x\n",
    "    def __lt__(self,u):\n",
    "        if(self.x<u.x):\n",
    "            return \"obj1 is less than obj2\"\n",
    "        else:\n",
    "            return \"obj2 is less than obj1\"\n",
    "    def __eq__(self,u):\n",
    "        if(self.x==u.x):\n",
    "            return \"objs are equal \"\n",
    "        else:\n",
    "            return \"objs are not equal \"\n",
    "    def __gt__(self,u):\n",
    "        if (self.x>u.x):\n",
    "            return \"obj1 is greater than obj2\"\n",
    "        else:\n",
    "            return \"obj2 is greater than obj1\"\n",
    "        \n",
    "obj1=e1(int(input(\"Enter value of 1 obj\")))\n",
    "obj2=e1(int(input(\"Enter value of 2 obj\")))\n",
    "print(\" : \",obj1<obj2)\n",
    "obj3=e1(int(input(\"Enter value of 1 obj\")))\n",
    "obj4=e1(int(input(\"Enter value of 2 obj\")))\n",
    "print(\" : \",obj3==obj4)\n",
    "obj5=e1(int(input(\"Enter value of 1 obj\")))\n",
    "obj6=e1(int(input(\"Enter value of 2 obj\")))\n",
    "print(\" : \",obj5>obj6)"
   ]
  },
  {
   "cell_type": "code",
   "execution_count": 48,
   "id": "1276fdfb",
   "metadata": {},
   "outputs": [
    {
     "name": "stdout",
     "output_type": "stream",
     "text": [
      "Enter value of 1 obj65\n",
      "Enter value of 2 obj87\n",
      "obj1 is not greater or equal than obj2\n"
     ]
    }
   ],
   "source": [
    "class e1:\n",
    "    def __gteq__(self,u):\n",
    "        if(self.x >= u.x):\n",
    "            return True\n",
    "        else:\n",
    "            return False\n",
    "obj7=(int(input(\"Enter value of 1 obj\")))\n",
    "obj8=(int(input(\"Enter value of 2 obj\")))\n",
    "if(obj7>=obj8):\n",
    "    print(\"obj1 is greater or equal than obj2\")\n",
    "else:\n",
    "    print(\"obj1 is not greater or equal than obj2\")\n",
    "#print(\"-\",obj7 >= obj8)"
   ]
  },
  {
   "cell_type": "code",
   "execution_count": 40,
   "id": "1d0773e7",
   "metadata": {},
   "outputs": [
    {
     "name": "stdout",
     "output_type": "stream",
     "text": [
      "- True\n"
     ]
    }
   ],
   "source": [
    "print(\"-\",obj7 >= obj8)"
   ]
  },
  {
   "cell_type": "code",
   "execution_count": null,
   "id": "bbb5d2c5",
   "metadata": {},
   "outputs": [],
   "source": []
  }
 ],
 "metadata": {
  "kernelspec": {
   "display_name": "Python 3 (ipykernel)",
   "language": "python",
   "name": "python3"
  },
  "language_info": {
   "codemirror_mode": {
    "name": "ipython",
    "version": 3
   },
   "file_extension": ".py",
   "mimetype": "text/x-python",
   "name": "python",
   "nbconvert_exporter": "python",
   "pygments_lexer": "ipython3",
   "version": "3.9.13"
  }
 },
 "nbformat": 4,
 "nbformat_minor": 5
}
